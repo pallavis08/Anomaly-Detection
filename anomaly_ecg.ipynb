{
 "cells": [
  {
   "cell_type": "markdown",
   "metadata": {},
   "source": [
    "# Anomaly detection using Autoencoders"
   ]
  },
  {
   "cell_type": "markdown",
   "metadata": {},
   "source": [
    "Hi! We are going to build a model for Anomaly detection by looking at the ECG data from Time Series Classification website."
   ]
  },
  {
   "cell_type": "markdown",
   "metadata": {},
   "source": [
    "Let start by importing the dependencies, required for this analysis:"
   ]
  },
  {
   "cell_type": "code",
   "execution_count": 391,
   "metadata": {},
   "outputs": [],
   "source": [
    "import pandas as pd\n",
    "import numpy as np\n",
    "import tensorflow as tf\n",
    "from tensorflow.keras import layers, losses\n",
    "from tensorflow.keras.models import Model\n",
    "import keras\n",
    "from keras.models import Sequential\n",
    "%matplotlib inline\n",
    "import matplotlib.pyplot as plt\n",
    "from sklearn.model_selection import train_test_split\n",
    "from sklearn.preprocessing import StandardScaler\n"
   ]
  },
  {
   "cell_type": "markdown",
   "metadata": {},
   "source": [
    "# Dataset\n",
    "The original dataset for \"ECG5000\" is a 20-hour long ECG downloaded from Physionet. The name is BIDMC Congestive Heart Failure Database(chfdb) and it is record \"chf07\". It was originally published in \"Goldberger AL, Amaral LAN, Glass L, Hausdorff JM, Ivanov PCh, Mark RG, Mietus JE, Moody GB, Peng C-K, Stanley HE. PhysioBank, PhysioToolkit, and PhysioNet: Components of a New Research Resource for Complex Physiologic Signals. Circulation 101(23)\". The data was pre-processed in two steps: (1) extract each heartbeat, (2) make each heartbeat equal length using interpolation. This dataset was originally used in paper \"A general framework for never-ending learning from time series streams\", DAMI 29(6). After that, 5,000 heartbeats were randomly selected. The patient has severe congestive heart failure and the class values were obtained by automated annotation.\n"
   ]
  },
  {
   "cell_type": "markdown",
   "metadata": {},
   "source": [
    "We will download the dataset from timeseriesclassification.com and combine train and test data and load the dataset into pandas dataframe and have a look at the data."
   ]
  },
  {
   "cell_type": "code",
   "execution_count": null,
   "metadata": {},
   "outputs": [],
   "source": [
    "!wget http://www.timeseriesclassification.com/Downloads/ECG5000.zip\n",
    "!unzip ECG5000.zip\n",
    "!cat ECG5000_TRAIN.txt ECG5000_TEST.txt > ecg_final.txt"
   ]
  },
  {
   "cell_type": "code",
   "execution_count": 393,
   "metadata": {},
   "outputs": [
    {
     "name": "stderr",
     "output_type": "stream",
     "text": [
      "/usr/local/lib/python3.5/dist-packages/ipykernel_launcher.py:1: ParserWarning:\n",
      "\n",
      "Falling back to the 'python' engine because the 'c' engine does not support regex separators (separators > 1 char and different from '\\s+' are interpreted as regex); you can avoid this warning by specifying engine='python'.\n",
      "\n"
     ]
    }
   ],
   "source": [
    "data = pd.read_csv(\"ecg_final.txt\", sep='  ', header = None)"
   ]
  },
  {
   "cell_type": "code",
   "execution_count": 394,
   "metadata": {},
   "outputs": [
    {
     "data": {
      "text/html": [
       "<div>\n",
       "<style scoped>\n",
       "    .dataframe tbody tr th:only-of-type {\n",
       "        vertical-align: middle;\n",
       "    }\n",
       "\n",
       "    .dataframe tbody tr th {\n",
       "        vertical-align: top;\n",
       "    }\n",
       "\n",
       "    .dataframe thead th {\n",
       "        text-align: right;\n",
       "    }\n",
       "</style>\n",
       "<table border=\"1\" class=\"dataframe\">\n",
       "  <thead>\n",
       "    <tr style=\"text-align: right;\">\n",
       "      <th></th>\n",
       "      <th>0</th>\n",
       "      <th>1</th>\n",
       "      <th>2</th>\n",
       "      <th>3</th>\n",
       "      <th>4</th>\n",
       "      <th>5</th>\n",
       "      <th>6</th>\n",
       "      <th>7</th>\n",
       "      <th>8</th>\n",
       "      <th>9</th>\n",
       "      <th>...</th>\n",
       "      <th>131</th>\n",
       "      <th>132</th>\n",
       "      <th>133</th>\n",
       "      <th>134</th>\n",
       "      <th>135</th>\n",
       "      <th>136</th>\n",
       "      <th>137</th>\n",
       "      <th>138</th>\n",
       "      <th>139</th>\n",
       "      <th>140</th>\n",
       "    </tr>\n",
       "  </thead>\n",
       "  <tbody>\n",
       "    <tr>\n",
       "      <th>0</th>\n",
       "      <td>1.0</td>\n",
       "      <td>-0.112522</td>\n",
       "      <td>-2.827204</td>\n",
       "      <td>-3.773897</td>\n",
       "      <td>-4.349751</td>\n",
       "      <td>-4.376041</td>\n",
       "      <td>-3.474986</td>\n",
       "      <td>-2.181408</td>\n",
       "      <td>-1.818287</td>\n",
       "      <td>-1.250522</td>\n",
       "      <td>...</td>\n",
       "      <td>0.160348</td>\n",
       "      <td>0.792168</td>\n",
       "      <td>0.933541</td>\n",
       "      <td>0.796958</td>\n",
       "      <td>0.578621</td>\n",
       "      <td>0.257740</td>\n",
       "      <td>0.228077</td>\n",
       "      <td>0.123431</td>\n",
       "      <td>0.925286</td>\n",
       "      <td>0.193137</td>\n",
       "    </tr>\n",
       "    <tr>\n",
       "      <th>1</th>\n",
       "      <td>1.0</td>\n",
       "      <td>-1.100878</td>\n",
       "      <td>-3.996840</td>\n",
       "      <td>-4.285843</td>\n",
       "      <td>-4.506579</td>\n",
       "      <td>-4.022377</td>\n",
       "      <td>-3.234368</td>\n",
       "      <td>-1.566126</td>\n",
       "      <td>-0.992258</td>\n",
       "      <td>-0.754680</td>\n",
       "      <td>...</td>\n",
       "      <td>0.560327</td>\n",
       "      <td>0.538356</td>\n",
       "      <td>0.656881</td>\n",
       "      <td>0.787490</td>\n",
       "      <td>0.724046</td>\n",
       "      <td>0.555784</td>\n",
       "      <td>0.476333</td>\n",
       "      <td>0.773820</td>\n",
       "      <td>1.119621</td>\n",
       "      <td>-1.436250</td>\n",
       "    </tr>\n",
       "    <tr>\n",
       "      <th>2</th>\n",
       "      <td>1.0</td>\n",
       "      <td>-0.567088</td>\n",
       "      <td>-2.593450</td>\n",
       "      <td>-3.874230</td>\n",
       "      <td>-4.584095</td>\n",
       "      <td>-4.187449</td>\n",
       "      <td>-3.151462</td>\n",
       "      <td>-1.742940</td>\n",
       "      <td>-1.490658</td>\n",
       "      <td>-1.183580</td>\n",
       "      <td>...</td>\n",
       "      <td>1.284825</td>\n",
       "      <td>0.886073</td>\n",
       "      <td>0.531452</td>\n",
       "      <td>0.311377</td>\n",
       "      <td>-0.021919</td>\n",
       "      <td>-0.713683</td>\n",
       "      <td>-0.532197</td>\n",
       "      <td>0.321097</td>\n",
       "      <td>0.904227</td>\n",
       "      <td>-0.421797</td>\n",
       "    </tr>\n",
       "    <tr>\n",
       "      <th>3</th>\n",
       "      <td>1.0</td>\n",
       "      <td>0.490473</td>\n",
       "      <td>-1.914407</td>\n",
       "      <td>-3.616364</td>\n",
       "      <td>-4.318823</td>\n",
       "      <td>-4.268016</td>\n",
       "      <td>-3.881110</td>\n",
       "      <td>-2.993280</td>\n",
       "      <td>-1.671131</td>\n",
       "      <td>-1.333884</td>\n",
       "      <td>...</td>\n",
       "      <td>0.491173</td>\n",
       "      <td>0.350816</td>\n",
       "      <td>0.499111</td>\n",
       "      <td>0.600345</td>\n",
       "      <td>0.842069</td>\n",
       "      <td>0.952074</td>\n",
       "      <td>0.990133</td>\n",
       "      <td>1.086798</td>\n",
       "      <td>1.403011</td>\n",
       "      <td>-0.383564</td>\n",
       "    </tr>\n",
       "    <tr>\n",
       "      <th>4</th>\n",
       "      <td>1.0</td>\n",
       "      <td>0.800232</td>\n",
       "      <td>-0.874252</td>\n",
       "      <td>-2.384761</td>\n",
       "      <td>-3.973292</td>\n",
       "      <td>-4.338224</td>\n",
       "      <td>-3.802422</td>\n",
       "      <td>-2.534510</td>\n",
       "      <td>-1.783423</td>\n",
       "      <td>-1.594450</td>\n",
       "      <td>...</td>\n",
       "      <td>0.966606</td>\n",
       "      <td>1.148884</td>\n",
       "      <td>0.958434</td>\n",
       "      <td>1.059025</td>\n",
       "      <td>1.371682</td>\n",
       "      <td>1.277392</td>\n",
       "      <td>0.960304</td>\n",
       "      <td>0.971020</td>\n",
       "      <td>1.614392</td>\n",
       "      <td>1.421456</td>\n",
       "    </tr>\n",
       "  </tbody>\n",
       "</table>\n",
       "<p>5 rows × 141 columns</p>\n",
       "</div>"
      ],
      "text/plain": [
       "   0         1         2         3         4         5         6         7    \\\n",
       "0  1.0 -0.112522 -2.827204 -3.773897 -4.349751 -4.376041 -3.474986 -2.181408   \n",
       "1  1.0 -1.100878 -3.996840 -4.285843 -4.506579 -4.022377 -3.234368 -1.566126   \n",
       "2  1.0 -0.567088 -2.593450 -3.874230 -4.584095 -4.187449 -3.151462 -1.742940   \n",
       "3  1.0  0.490473 -1.914407 -3.616364 -4.318823 -4.268016 -3.881110 -2.993280   \n",
       "4  1.0  0.800232 -0.874252 -2.384761 -3.973292 -4.338224 -3.802422 -2.534510   \n",
       "\n",
       "        8         9    ...       131       132       133       134       135  \\\n",
       "0 -1.818287 -1.250522  ...  0.160348  0.792168  0.933541  0.796958  0.578621   \n",
       "1 -0.992258 -0.754680  ...  0.560327  0.538356  0.656881  0.787490  0.724046   \n",
       "2 -1.490658 -1.183580  ...  1.284825  0.886073  0.531452  0.311377 -0.021919   \n",
       "3 -1.671131 -1.333884  ...  0.491173  0.350816  0.499111  0.600345  0.842069   \n",
       "4 -1.783423 -1.594450  ...  0.966606  1.148884  0.958434  1.059025  1.371682   \n",
       "\n",
       "        136       137       138       139       140  \n",
       "0  0.257740  0.228077  0.123431  0.925286  0.193137  \n",
       "1  0.555784  0.476333  0.773820  1.119621 -1.436250  \n",
       "2 -0.713683 -0.532197  0.321097  0.904227 -0.421797  \n",
       "3  0.952074  0.990133  1.086798  1.403011 -0.383564  \n",
       "4  1.277392  0.960304  0.971020  1.614392  1.421456  \n",
       "\n",
       "[5 rows x 141 columns]"
      ]
     },
     "execution_count": 394,
     "metadata": {},
     "output_type": "execute_result"
    }
   ],
   "source": [
    "data.head()"
   ]
  },
  {
   "cell_type": "code",
   "execution_count": 395,
   "metadata": {},
   "outputs": [
    {
     "data": {
      "text/html": [
       "<div>\n",
       "<style scoped>\n",
       "    .dataframe tbody tr th:only-of-type {\n",
       "        vertical-align: middle;\n",
       "    }\n",
       "\n",
       "    .dataframe tbody tr th {\n",
       "        vertical-align: top;\n",
       "    }\n",
       "\n",
       "    .dataframe thead th {\n",
       "        text-align: right;\n",
       "    }\n",
       "</style>\n",
       "<table border=\"1\" class=\"dataframe\">\n",
       "  <thead>\n",
       "    <tr style=\"text-align: right;\">\n",
       "      <th></th>\n",
       "      <th>0</th>\n",
       "      <th>1</th>\n",
       "      <th>2</th>\n",
       "      <th>3</th>\n",
       "      <th>4</th>\n",
       "      <th>5</th>\n",
       "      <th>6</th>\n",
       "      <th>7</th>\n",
       "      <th>8</th>\n",
       "      <th>9</th>\n",
       "      <th>...</th>\n",
       "      <th>131</th>\n",
       "      <th>132</th>\n",
       "      <th>133</th>\n",
       "      <th>134</th>\n",
       "      <th>135</th>\n",
       "      <th>136</th>\n",
       "      <th>137</th>\n",
       "      <th>138</th>\n",
       "      <th>139</th>\n",
       "      <th>140</th>\n",
       "    </tr>\n",
       "  </thead>\n",
       "  <tbody>\n",
       "    <tr>\n",
       "      <th>count</th>\n",
       "      <td>5000.000000</td>\n",
       "      <td>5000.000000</td>\n",
       "      <td>5000.000000</td>\n",
       "      <td>5000.000000</td>\n",
       "      <td>5000.000000</td>\n",
       "      <td>5000.000000</td>\n",
       "      <td>5000.000000</td>\n",
       "      <td>5000.000000</td>\n",
       "      <td>5000.000000</td>\n",
       "      <td>5000.000000</td>\n",
       "      <td>...</td>\n",
       "      <td>5000.000000</td>\n",
       "      <td>5000.000000</td>\n",
       "      <td>5000.000000</td>\n",
       "      <td>5000.000000</td>\n",
       "      <td>5000.000000</td>\n",
       "      <td>5000.000000</td>\n",
       "      <td>5000.000000</td>\n",
       "      <td>5000.000000</td>\n",
       "      <td>5000.000000</td>\n",
       "      <td>5000.000000</td>\n",
       "    </tr>\n",
       "    <tr>\n",
       "      <th>mean</th>\n",
       "      <td>1.527400</td>\n",
       "      <td>-0.262476</td>\n",
       "      <td>-1.649511</td>\n",
       "      <td>-2.492211</td>\n",
       "      <td>-3.119443</td>\n",
       "      <td>-3.167438</td>\n",
       "      <td>-2.866308</td>\n",
       "      <td>-2.273126</td>\n",
       "      <td>-1.798127</td>\n",
       "      <td>-1.410124</td>\n",
       "      <td>...</td>\n",
       "      <td>0.146319</td>\n",
       "      <td>0.070973</td>\n",
       "      <td>-0.062914</td>\n",
       "      <td>-0.276206</td>\n",
       "      <td>-0.507667</td>\n",
       "      <td>-0.761043</td>\n",
       "      <td>-0.834741</td>\n",
       "      <td>-0.642263</td>\n",
       "      <td>-0.487242</td>\n",
       "      <td>-0.706008</td>\n",
       "    </tr>\n",
       "    <tr>\n",
       "      <th>std</th>\n",
       "      <td>0.760372</td>\n",
       "      <td>1.152369</td>\n",
       "      <td>1.445493</td>\n",
       "      <td>1.386409</td>\n",
       "      <td>1.302802</td>\n",
       "      <td>1.104382</td>\n",
       "      <td>0.906133</td>\n",
       "      <td>0.731627</td>\n",
       "      <td>0.623100</td>\n",
       "      <td>0.637149</td>\n",
       "      <td>...</td>\n",
       "      <td>1.171299</td>\n",
       "      <td>1.404842</td>\n",
       "      <td>1.646585</td>\n",
       "      <td>1.895134</td>\n",
       "      <td>2.059758</td>\n",
       "      <td>2.086218</td>\n",
       "      <td>2.056220</td>\n",
       "      <td>1.859296</td>\n",
       "      <td>1.830987</td>\n",
       "      <td>1.414465</td>\n",
       "    </tr>\n",
       "    <tr>\n",
       "      <th>min</th>\n",
       "      <td>1.000000</td>\n",
       "      <td>-6.729499</td>\n",
       "      <td>-7.090374</td>\n",
       "      <td>-5.132459</td>\n",
       "      <td>-5.363241</td>\n",
       "      <td>-5.375715</td>\n",
       "      <td>-5.330194</td>\n",
       "      <td>-4.782240</td>\n",
       "      <td>-4.311288</td>\n",
       "      <td>-4.071361</td>\n",
       "      <td>...</td>\n",
       "      <td>-3.971715</td>\n",
       "      <td>-4.167040</td>\n",
       "      <td>-4.557576</td>\n",
       "      <td>-4.530488</td>\n",
       "      <td>-4.563270</td>\n",
       "      <td>-5.150100</td>\n",
       "      <td>-4.880460</td>\n",
       "      <td>-5.496107</td>\n",
       "      <td>-5.880890</td>\n",
       "      <td>-6.092227</td>\n",
       "    </tr>\n",
       "    <tr>\n",
       "      <th>25%</th>\n",
       "      <td>1.000000</td>\n",
       "      <td>-1.004511</td>\n",
       "      <td>-2.701576</td>\n",
       "      <td>-3.668096</td>\n",
       "      <td>-4.227247</td>\n",
       "      <td>-4.007470</td>\n",
       "      <td>-3.480479</td>\n",
       "      <td>-2.779941</td>\n",
       "      <td>-2.165851</td>\n",
       "      <td>-1.774124</td>\n",
       "      <td>...</td>\n",
       "      <td>-0.655753</td>\n",
       "      <td>-1.089300</td>\n",
       "      <td>-1.588885</td>\n",
       "      <td>-2.147449</td>\n",
       "      <td>-2.731550</td>\n",
       "      <td>-3.030509</td>\n",
       "      <td>-2.868331</td>\n",
       "      <td>-2.153513</td>\n",
       "      <td>-1.657771</td>\n",
       "      <td>-1.596692</td>\n",
       "    </tr>\n",
       "    <tr>\n",
       "      <th>50%</th>\n",
       "      <td>1.000000</td>\n",
       "      <td>-0.297541</td>\n",
       "      <td>-1.661892</td>\n",
       "      <td>-2.585677</td>\n",
       "      <td>-3.387934</td>\n",
       "      <td>-3.468718</td>\n",
       "      <td>-2.947061</td>\n",
       "      <td>-2.285578</td>\n",
       "      <td>-1.750157</td>\n",
       "      <td>-1.422570</td>\n",
       "      <td>...</td>\n",
       "      <td>0.473642</td>\n",
       "      <td>0.658318</td>\n",
       "      <td>0.717808</td>\n",
       "      <td>0.604747</td>\n",
       "      <td>0.334857</td>\n",
       "      <td>-0.030767</td>\n",
       "      <td>-0.195151</td>\n",
       "      <td>-0.194423</td>\n",
       "      <td>-0.160262</td>\n",
       "      <td>-0.565588</td>\n",
       "    </tr>\n",
       "    <tr>\n",
       "      <th>75%</th>\n",
       "      <td>2.000000</td>\n",
       "      <td>0.500061</td>\n",
       "      <td>-0.677290</td>\n",
       "      <td>-1.513964</td>\n",
       "      <td>-2.235369</td>\n",
       "      <td>-2.530967</td>\n",
       "      <td>-2.398813</td>\n",
       "      <td>-1.823494</td>\n",
       "      <td>-1.484923</td>\n",
       "      <td>-1.063708</td>\n",
       "      <td>...</td>\n",
       "      <td>1.062134</td>\n",
       "      <td>1.169420</td>\n",
       "      <td>1.238687</td>\n",
       "      <td>1.264471</td>\n",
       "      <td>1.234433</td>\n",
       "      <td>1.034584</td>\n",
       "      <td>0.945237</td>\n",
       "      <td>0.951681</td>\n",
       "      <td>1.002692</td>\n",
       "      <td>0.272012</td>\n",
       "    </tr>\n",
       "    <tr>\n",
       "      <th>max</th>\n",
       "      <td>5.000000</td>\n",
       "      <td>4.966414</td>\n",
       "      <td>3.479689</td>\n",
       "      <td>2.660597</td>\n",
       "      <td>1.899798</td>\n",
       "      <td>2.147015</td>\n",
       "      <td>1.614375</td>\n",
       "      <td>1.868728</td>\n",
       "      <td>1.804251</td>\n",
       "      <td>1.683730</td>\n",
       "      <td>...</td>\n",
       "      <td>2.960969</td>\n",
       "      <td>3.007606</td>\n",
       "      <td>2.854680</td>\n",
       "      <td>2.912394</td>\n",
       "      <td>2.937685</td>\n",
       "      <td>3.351437</td>\n",
       "      <td>3.432518</td>\n",
       "      <td>3.579448</td>\n",
       "      <td>4.425976</td>\n",
       "      <td>7.402103</td>\n",
       "    </tr>\n",
       "  </tbody>\n",
       "</table>\n",
       "<p>8 rows × 141 columns</p>\n",
       "</div>"
      ],
      "text/plain": [
       "               0            1            2            3            4    \\\n",
       "count  5000.000000  5000.000000  5000.000000  5000.000000  5000.000000   \n",
       "mean      1.527400    -0.262476    -1.649511    -2.492211    -3.119443   \n",
       "std       0.760372     1.152369     1.445493     1.386409     1.302802   \n",
       "min       1.000000    -6.729499    -7.090374    -5.132459    -5.363241   \n",
       "25%       1.000000    -1.004511    -2.701576    -3.668096    -4.227247   \n",
       "50%       1.000000    -0.297541    -1.661892    -2.585677    -3.387934   \n",
       "75%       2.000000     0.500061    -0.677290    -1.513964    -2.235369   \n",
       "max       5.000000     4.966414     3.479689     2.660597     1.899798   \n",
       "\n",
       "               5            6            7            8            9    ...  \\\n",
       "count  5000.000000  5000.000000  5000.000000  5000.000000  5000.000000  ...   \n",
       "mean     -3.167438    -2.866308    -2.273126    -1.798127    -1.410124  ...   \n",
       "std       1.104382     0.906133     0.731627     0.623100     0.637149  ...   \n",
       "min      -5.375715    -5.330194    -4.782240    -4.311288    -4.071361  ...   \n",
       "25%      -4.007470    -3.480479    -2.779941    -2.165851    -1.774124  ...   \n",
       "50%      -3.468718    -2.947061    -2.285578    -1.750157    -1.422570  ...   \n",
       "75%      -2.530967    -2.398813    -1.823494    -1.484923    -1.063708  ...   \n",
       "max       2.147015     1.614375     1.868728     1.804251     1.683730  ...   \n",
       "\n",
       "               131          132          133          134          135  \\\n",
       "count  5000.000000  5000.000000  5000.000000  5000.000000  5000.000000   \n",
       "mean      0.146319     0.070973    -0.062914    -0.276206    -0.507667   \n",
       "std       1.171299     1.404842     1.646585     1.895134     2.059758   \n",
       "min      -3.971715    -4.167040    -4.557576    -4.530488    -4.563270   \n",
       "25%      -0.655753    -1.089300    -1.588885    -2.147449    -2.731550   \n",
       "50%       0.473642     0.658318     0.717808     0.604747     0.334857   \n",
       "75%       1.062134     1.169420     1.238687     1.264471     1.234433   \n",
       "max       2.960969     3.007606     2.854680     2.912394     2.937685   \n",
       "\n",
       "               136          137          138          139          140  \n",
       "count  5000.000000  5000.000000  5000.000000  5000.000000  5000.000000  \n",
       "mean     -0.761043    -0.834741    -0.642263    -0.487242    -0.706008  \n",
       "std       2.086218     2.056220     1.859296     1.830987     1.414465  \n",
       "min      -5.150100    -4.880460    -5.496107    -5.880890    -6.092227  \n",
       "25%      -3.030509    -2.868331    -2.153513    -1.657771    -1.596692  \n",
       "50%      -0.030767    -0.195151    -0.194423    -0.160262    -0.565588  \n",
       "75%       1.034584     0.945237     0.951681     1.002692     0.272012  \n",
       "max       3.351437     3.432518     3.579448     4.425976     7.402103  \n",
       "\n",
       "[8 rows x 141 columns]"
      ]
     },
     "execution_count": 395,
     "metadata": {},
     "output_type": "execute_result"
    }
   ],
   "source": [
    "data.describe(include=\"all\")"
   ]
  },
  {
   "cell_type": "code",
   "execution_count": 396,
   "metadata": {},
   "outputs": [
    {
     "data": {
      "text/plain": [
       "(5000, 141)"
      ]
     },
     "execution_count": 396,
     "metadata": {},
     "output_type": "execute_result"
    }
   ],
   "source": [
    "data.shape"
   ]
  },
  {
   "cell_type": "markdown",
   "metadata": {},
   "source": [
    "Since there is no header in this dataset, we will rename all columns by adding a prefic c to the column names (that are just numbers right now: default by pandas)"
   ]
  },
  {
   "cell_type": "code",
   "execution_count": 397,
   "metadata": {},
   "outputs": [],
   "source": [
    "data = data.add_prefix('c')"
   ]
  },
  {
   "cell_type": "markdown",
   "metadata": {},
   "source": [
    " So, there are 5000 records in the dataset. There are 140 ECG readings for each record and first column is a label,\n",
    " where value of 0 indicates Normal ECG and any value more than 1 is an anomaly in ECG."
   ]
  },
  {
   "cell_type": "markdown",
   "metadata": {},
   "source": [
    "Lets split the dataset into training and testing and make it ready for our model."
   ]
  },
  {
   "cell_type": "code",
   "execution_count": 398,
   "metadata": {},
   "outputs": [],
   "source": [
    "X_train, X_test, y_train, y_test = train_test_split(data.values, data.values[:,0:1], test_size = 0.2, random_state=101)"
   ]
  },
  {
   "cell_type": "code",
   "execution_count": 400,
   "metadata": {},
   "outputs": [
    {
     "name": "stdout",
     "output_type": "stream",
     "text": [
      "Training shape: (4000, 141)\n",
      "Testing shape: (1000, 141)\n",
      "\n",
      "\n",
      "Training shape: (4000, 1)\n",
      "Testing shape: (1000, 1)\n"
     ]
    }
   ],
   "source": [
    "print('Training shape: {}'.format(X_train.shape))\n",
    "print('Testing shape: {}'.format(X_test.shape))\n",
    "print('\\n')\n",
    "print('Training shape: {}'.format(y_train.shape))\n",
    "print('Testing shape: {}'.format(y_test.shape))"
   ]
  },
  {
   "cell_type": "markdown",
   "metadata": {},
   "source": [
    "Let us standardize the data now."
   ]
  },
  {
   "cell_type": "code",
   "execution_count": 319,
   "metadata": {},
   "outputs": [],
   "source": [
    "scaler = StandardScaler()\n",
    "scaler = scaler.fit(train_data)"
   ]
  },
  {
   "cell_type": "code",
   "execution_count": 401,
   "metadata": {},
   "outputs": [],
   "source": [
    "X_train_scaled = data_scaled.transform(X_train)\n",
    "X_test_scaled = data_scaled.transform(X_test)"
   ]
  },
  {
   "cell_type": "markdown",
   "metadata": {},
   "source": [
    "Now we will divide the training dataset into normal ECG records and anomalous ECG records. We will train the data only on Normal records but we will validate on dataset that have both normal and anomalous records."
   ]
  },
  {
   "cell_type": "code",
   "execution_count": 403,
   "metadata": {},
   "outputs": [],
   "source": [
    "normal_X_train = pd.DataFrame(X_train_scaled).add_prefix('c').query('c0 == 0').values[:,1:]\n",
    "anomaly_X_train = pd.DataFrame(X_train_scaled).add_prefix('c').query('c0 > 0').values[:,1:]"
   ]
  },
  {
   "cell_type": "code",
   "execution_count": 405,
   "metadata": {},
   "outputs": [],
   "source": [
    "normal_X_test = pd.DataFrame(X_test_scaled).add_prefix('c').query('c0 == 0').values[:,1:]\n",
    "anomaly_X_test = pd.DataFrame(X_test_scaled).add_prefix('c').query('c0 > 0').values[:,1:]"
   ]
  },
  {
   "cell_type": "markdown",
   "metadata": {},
   "source": [
    "Let us look at few examples of normal and anomalous records:"
   ]
  },
  {
   "cell_type": "code",
   "execution_count": 406,
   "metadata": {},
   "outputs": [
    {
     "data": {
      "text/plain": [
       "[<matplotlib.lines.Line2D at 0x7f9197cd1da0>]"
      ]
     },
     "execution_count": 406,
     "metadata": {},
     "output_type": "execute_result"
    },
    {
     "data": {
      "image/png": "[encoded data removed]",
      "text/plain": [
       "<Figure size 432x288 with 1 Axes>"
      ]
     },
     "metadata": {
      "needs_background": "light"
     },
     "output_type": "display_data"
    }
   ],
   "source": [
    "plt.plot(normal_X_train[0])\n",
    "plt.plot(normal_X_train[1])\n",
    "plt.plot(normal_X_train[2])"
   ]
  },
  {
   "cell_type": "code",
   "execution_count": 407,
   "metadata": {},
   "outputs": [
    {
     "data": {
      "text/plain": [
       "[<matplotlib.lines.Line2D at 0x7f919aeea470>]"
      ]
     },
     "execution_count": 407,
     "metadata": {},
     "output_type": "execute_result"
    },
    {
     "data": {
      "image/png": "[encoded data removed]",
      "text/plain": [
       "<Figure size 432x288 with 1 Axes>"
      ]
     },
     "metadata": {
      "needs_background": "light"
     },
     "output_type": "display_data"
    }
   ],
   "source": [
    "plt.plot(anomaly_X_train[0])\n",
    "plt.plot(anomaly_X_train[1])\n",
    "plt.plot(anomaly_X_train[2])"
   ]
  },
  {
   "cell_type": "markdown",
   "metadata": {},
   "source": [
    "As we can see from the plot, normal ECG records line up very well and overlap in majority of space. Records with anamoly on the other hand have much variation in the data and diverge more from the norm."
   ]
  },
  {
   "cell_type": "markdown",
   "metadata": {},
   "source": [
    "# Build the model\n",
    "We will use common architecture for our Autoencoder model. We will deconstruct our data gradually with each layer,\n",
    "upto layer with 8 hidden units and then we will reconstruct it back to the 140, shape of our input."
   ]
  },
  {
   "cell_type": "code",
   "execution_count": 408,
   "metadata": {},
   "outputs": [],
   "source": [
    "model = tf.keras.Sequential()\n",
    "model.add(tf.keras.layers.Dense(64, activation = 'relu'))\n",
    "model.add(tf.keras.layers.Dense(32, activation = 'relu'))\n",
    "model.add(tf.keras.layers.Dense(16, activation = 'relu'))\n",
    "model.add(tf.keras.layers.Dense(8, activation = 'relu'))\n",
    "model.add(tf.keras.layers.Dense(16, activation = 'relu'))\n",
    "model.add(tf.keras.layers.Dense(32, activation = 'relu'))\n",
    "model.add(tf.keras.layers.Dense(64, activation = 'relu'))\n",
    "model.add(tf.keras.layers.Dense(140, activation = 'sigmoid'))\n",
    "model.compile(optimizer='adam', loss='mae')\n"
   ]
  },
  {
   "cell_type": "code",
   "execution_count": 410,
   "metadata": {},
   "outputs": [
    {
     "name": "stdout",
     "output_type": "stream",
     "text": [
      "Epoch 1/50\n",
      "19/19 [==============================] - 1s 43ms/step - loss: 0.1281 - val_loss: 0.1126\n",
      "Epoch 2/50\n",
      "19/19 [==============================] - 0s 5ms/step - loss: 0.0798 - val_loss: 0.0820\n",
      "Epoch 3/50\n",
      "19/19 [==============================] - 0s 5ms/step - loss: 0.0550 - val_loss: 0.0770\n",
      "Epoch 4/50\n",
      "19/19 [==============================] - 0s 5ms/step - loss: 0.0490 - val_loss: 0.0761\n",
      "Epoch 5/50\n",
      "19/19 [==============================] - 0s 5ms/step - loss: 0.0480 - val_loss: 0.0758\n",
      "Epoch 6/50\n",
      "19/19 [==============================] - 0s 6ms/step - loss: 0.0477 - val_loss: 0.0755\n",
      "Epoch 7/50\n",
      "19/19 [==============================] - 0s 5ms/step - loss: 0.0475 - val_loss: 0.0751\n",
      "Epoch 8/50\n",
      "19/19 [==============================] - 0s 5ms/step - loss: 0.0471 - val_loss: 0.0743\n",
      "Epoch 9/50\n",
      "19/19 [==============================] - 0s 5ms/step - loss: 0.0461 - val_loss: 0.0725\n",
      "Epoch 10/50\n",
      "19/19 [==============================] - 0s 5ms/step - loss: 0.0435 - val_loss: 0.0694\n",
      "Epoch 11/50\n",
      "19/19 [==============================] - 0s 5ms/step - loss: 0.0408 - val_loss: 0.0669\n",
      "Epoch 12/50\n",
      "19/19 [==============================] - 0s 5ms/step - loss: 0.0393 - val_loss: 0.0659\n",
      "Epoch 13/50\n",
      "19/19 [==============================] - 0s 5ms/step - loss: 0.0385 - val_loss: 0.0653\n",
      "Epoch 14/50\n",
      "19/19 [==============================] - 0s 5ms/step - loss: 0.0380 - val_loss: 0.0647\n",
      "Epoch 15/50\n",
      "19/19 [==============================] - 0s 5ms/step - loss: 0.0377 - val_loss: 0.0642\n",
      "Epoch 16/50\n",
      "19/19 [==============================] - 0s 5ms/step - loss: 0.0374 - val_loss: 0.0638\n",
      "Epoch 17/50\n",
      "19/19 [==============================] - 0s 5ms/step - loss: 0.0369 - val_loss: 0.0635\n",
      "Epoch 18/50\n",
      "19/19 [==============================] - 0s 5ms/step - loss: 0.0364 - val_loss: 0.0624\n",
      "Epoch 19/50\n",
      "19/19 [==============================] - 0s 5ms/step - loss: 0.0361 - val_loss: 0.0622\n",
      "Epoch 20/50\n",
      "19/19 [==============================] - 0s 5ms/step - loss: 0.0359 - val_loss: 0.0620\n",
      "Epoch 21/50\n",
      "19/19 [==============================] - 0s 5ms/step - loss: 0.0358 - val_loss: 0.0613\n",
      "Epoch 22/50\n",
      "19/19 [==============================] - 0s 5ms/step - loss: 0.0353 - val_loss: 0.0611\n",
      "Epoch 23/50\n",
      "19/19 [==============================] - 0s 5ms/step - loss: 0.0353 - val_loss: 0.0610\n",
      "Epoch 24/50\n",
      "19/19 [==============================] - 0s 5ms/step - loss: 0.0350 - val_loss: 0.0607\n",
      "Epoch 25/50\n",
      "19/19 [==============================] - 0s 5ms/step - loss: 0.0349 - val_loss: 0.0610\n",
      "Epoch 26/50\n",
      "19/19 [==============================] - 0s 5ms/step - loss: 0.0348 - val_loss: 0.0599\n",
      "Epoch 27/50\n",
      "19/19 [==============================] - 0s 5ms/step - loss: 0.0346 - val_loss: 0.0602\n",
      "Epoch 28/50\n",
      "19/19 [==============================] - 0s 5ms/step - loss: 0.0345 - val_loss: 0.0598\n",
      "Epoch 29/50\n",
      "19/19 [==============================] - 0s 5ms/step - loss: 0.0344 - val_loss: 0.0598\n",
      "Epoch 30/50\n",
      "19/19 [==============================] - 0s 5ms/step - loss: 0.0344 - val_loss: 0.0601\n",
      "Epoch 31/50\n",
      "19/19 [==============================] - 0s 5ms/step - loss: 0.0343 - val_loss: 0.0600\n",
      "Epoch 32/50\n",
      "19/19 [==============================] - 0s 5ms/step - loss: 0.0341 - val_loss: 0.0595\n",
      "Epoch 33/50\n",
      "19/19 [==============================] - 0s 5ms/step - loss: 0.0341 - val_loss: 0.0595\n",
      "Epoch 34/50\n",
      "19/19 [==============================] - 0s 5ms/step - loss: 0.0340 - val_loss: 0.0594\n",
      "Epoch 35/50\n",
      "19/19 [==============================] - 0s 5ms/step - loss: 0.0339 - val_loss: 0.0595\n",
      "Epoch 36/50\n",
      "19/19 [==============================] - 0s 5ms/step - loss: 0.0338 - val_loss: 0.0596\n",
      "Epoch 37/50\n",
      "19/19 [==============================] - 0s 5ms/step - loss: 0.0337 - val_loss: 0.0588\n",
      "Epoch 38/50\n",
      "19/19 [==============================] - 0s 5ms/step - loss: 0.0337 - val_loss: 0.0592\n",
      "Epoch 39/50\n",
      "19/19 [==============================] - 0s 5ms/step - loss: 0.0337 - val_loss: 0.0606\n",
      "Epoch 40/50\n",
      "19/19 [==============================] - 0s 5ms/step - loss: 0.0336 - val_loss: 0.0589\n"
     ]
    }
   ],
   "source": [
    "history = model.fit(normal_X_train, normal_X_train,\n",
    "                   epochs = 50,\n",
    "                   batch_size = 128,\n",
    "                   validation_data = (X_train_scaled[:,1:], X_train_scaled[:,1:]),\n",
    "                   shuffle=True,\n",
    "                   callbacks = [early_stopping])"
   ]
  },
  {
   "cell_type": "code",
   "execution_count": 412,
   "metadata": {},
   "outputs": [
    {
     "name": "stdout",
     "output_type": "stream",
     "text": [
      "Model: \"sequential_16\"\n",
      "_________________________________________________________________\n",
      "Layer (type)                 Output Shape              Param #   \n",
      "=================================================================\n",
      "dense_50 (Dense)             (None, 64)                9024      \n",
      "_________________________________________________________________\n",
      "dense_51 (Dense)             (None, 32)                2080      \n",
      "_________________________________________________________________\n",
      "dense_52 (Dense)             (None, 16)                528       \n",
      "_________________________________________________________________\n",
      "dense_53 (Dense)             (None, 8)                 136       \n",
      "_________________________________________________________________\n",
      "dense_54 (Dense)             (None, 16)                144       \n",
      "_________________________________________________________________\n",
      "dense_55 (Dense)             (None, 32)                544       \n",
      "_________________________________________________________________\n",
      "dense_56 (Dense)             (None, 64)                2112      \n",
      "_________________________________________________________________\n",
      "dense_57 (Dense)             (None, 140)               9100      \n",
      "=================================================================\n",
      "Total params: 23,668\n",
      "Trainable params: 23,668\n",
      "Non-trainable params: 0\n",
      "_________________________________________________________________\n"
     ]
    }
   ],
   "source": [
    "model.summary()"
   ]
  },
  {
   "cell_type": "markdown",
   "metadata": {},
   "source": [
    "Visualization of Model Training Loss:"
   ]
  },
  {
   "cell_type": "code",
   "execution_count": 413,
   "metadata": {},
   "outputs": [
    {
     "data": {
      "image/png": "[encoded data removed]",
      "text/plain": [
       "<Figure size 432x288 with 1 Axes>"
      ]
     },
     "metadata": {
      "needs_background": "light"
     },
     "output_type": "display_data"
    }
   ],
   "source": [
    "plt.plot(history.history['loss'], label='Training loss')\n",
    "plt.plot(history.history['val_loss'], label='Validation loss')\n",
    "plt.legend();"
   ]
  },
  {
   "cell_type": "markdown",
   "metadata": {},
   "source": [
    "Let us now predict and check how model has done on both Normal and Anomalous test dataset:"
   ]
  },
  {
   "cell_type": "code",
   "execution_count": 414,
   "metadata": {},
   "outputs": [
    {
     "data": {
      "image/png": "[encoded data removed]",
      "text/plain": [
       "<Figure size 360x360 with 1 Axes>"
      ]
     },
     "metadata": {
      "needs_background": "light"
     },
     "output_type": "display_data"
    },
    {
     "name": "stdout",
     "output_type": "stream",
     "text": [
      "Reconstruction error threshold: 0.07225913222525962\n"
     ]
    }
   ],
   "source": [
    "#Normal test dataset\n",
    "X_train_pred = model.predict(normal_X_test, verbose=0)\n",
    "train_mae_loss = np.mean(np.abs(X_train_pred - normal_X_test), axis=1)\n",
    "\n",
    "plt.figure(figsize=(5,5))\n",
    "plt.hist(train_mae_loss, bins=50, color ='#d2601a')\n",
    "plt.xlabel('Train MAE loss')\n",
    "plt.ylabel('Number of Samples');\n",
    "plt.show()\n",
    "\n",
    "threshold = np.percentile(train_mae_loss,97.5) # This is a clean normal data.\n",
    "print('Reconstruction error threshold: {}'.format(threshold))"
   ]
  },
  {
   "cell_type": "code",
   "execution_count": 415,
   "metadata": {},
   "outputs": [
    {
     "data": {
      "image/png": "[encoded data removed]",
      "text/plain": [
       "<Figure size 360x360 with 1 Axes>"
      ]
     },
     "metadata": {
      "needs_background": "light"
     },
     "output_type": "display_data"
    }
   ],
   "source": [
    "#Anomaly test dataset\n",
    "X_train_pred = model.predict(anomaly_X_test, verbose=0)\n",
    "train_mae_loss_a = np.mean(np.abs(X_train_pred - anomaly_X_test), axis=1)\n",
    "\n",
    "plt.figure(figsize=(5,5))\n",
    "plt.hist(train_mae_loss_a, bins=50, color ='#d2601a')\n",
    "plt.xlabel('Train MAE loss')\n",
    "plt.ylabel('Number of Samples');\n",
    "plt.show()\n"
   ]
  },
  {
   "cell_type": "markdown",
   "metadata": {},
   "source": [
    "Let us have a look at both of them side by side and check how did we do?"
   ]
  },
  {
   "cell_type": "code",
   "execution_count": 416,
   "metadata": {},
   "outputs": [
    {
     "data": {
      "image/png": "[encoded data removed]",
      "text/plain": [
       "<Figure size 432x288 with 1 Axes>"
      ]
     },
     "metadata": {
      "needs_background": "light"
     },
     "output_type": "display_data"
    }
   ],
   "source": [
    "plt.hist(train_mae_loss, bins=50, label ='normal', color ='#d2601a')\n",
    "plt.hist(train_mae_loss_a, bins=50, label ='anomaly', color ='#1d3c45')\n",
    "plt.axvline(threshold, color = 'r', linewidth =3, linestyle ='dashed', label ='{:0.3f}'.format(threshold))\n",
    "plt.legend(loc='upper right')\n",
    "plt.show()"
   ]
  },
  {
   "cell_type": "markdown",
   "metadata": {},
   "source": [
    "We can infer from the above plot that we have identied most of the normal and anomalous ECG into correctly. Our model is able to separate normal and anomaly very well."
   ]
  },
  {
   "cell_type": "code",
   "execution_count": 417,
   "metadata": {},
   "outputs": [
    {
     "data": {
      "text/plain": [
       "<tf.Tensor: shape=(), dtype=int64, numpy=577>"
      ]
     },
     "execution_count": 417,
     "metadata": {},
     "output_type": "execute_result"
    }
   ],
   "source": [
    "#Normal Class\n",
    "preds = tf.math.less(train_mae_loss, threshold)\n",
    "preds.shape\n",
    "tf.math.count_nonzero(preds)"
   ]
  },
  {
   "cell_type": "markdown",
   "metadata": {},
   "source": [
    "Normal Class Out of 592, our model can identify correctly 577 rocords that gives the accuracy of 97.4%. "
   ]
  },
  {
   "cell_type": "code",
   "execution_count": 418,
   "metadata": {},
   "outputs": [
    {
     "data": {
      "text/plain": [
       "<tf.Tensor: shape=(), dtype=int64, numpy=397>"
      ]
     },
     "execution_count": 418,
     "metadata": {},
     "output_type": "execute_result"
    }
   ],
   "source": [
    "#Anomaly Class\n",
    "preds_a = tf.math.greater(train_mae_loss_a, threshold)\n",
    "preds_a.shape\n",
    "tf.math.count_nonzero(preds_a)"
   ]
  },
  {
   "cell_type": "markdown",
   "metadata": {},
   "source": [
    "For Anomaly Class Out of 408, our model can identify correctly 397 rocords that gives the accuracy of 97.3%. "
   ]
  }
 ],
 "metadata": {
  "kernelspec": {
   "display_name": "Python 3",
   "language": "python",
   "name": "python3"
  },
  "language_info": {
   "codemirror_mode": {
    "name": "ipython",
    "version": 3
   },
   "file_extension": ".py",
   "mimetype": "text/x-python",
   "name": "python",
   "nbconvert_exporter": "python",
   "pygments_lexer": "ipython3",
   "version": "3.5.3"
  }
 },
 "nbformat": 4,
 "nbformat_minor": 4
}
